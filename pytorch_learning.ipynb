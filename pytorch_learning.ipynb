{
 "cells": [
  {
   "cell_type": "code",
   "execution_count": 1,
   "id": "43e49a23-81e9-4dea-8d56-3f5ef77b0244",
   "metadata": {
    "tags": []
   },
   "outputs": [
    {
     "name": "stdout",
     "output_type": "stream",
     "text": [
      "torch version 1.13.1\n",
      "Device = cpu\n"
     ]
    }
   ],
   "source": [
    "import torch\n",
    "print(f\"torch version {torch.__version__}\")\n",
    "from torch import nn\n",
    "import datetime\n",
    "\n",
    "# Importing TensorBoard libraries for visuvalization\n",
    "from torch.utils.tensorboard import SummaryWriter\n",
    "\n",
    "# Importing Ray Tune libraries for hyperparameter tuning\n",
    "from ray import train, tune\n",
    "\n",
    "# Setup device-agnostic code\n",
    "device = \"cuda\" if torch.cuda.is_available() else \"cpu\"\n",
    "device\n",
    "print(f\"Device = {device}\")"
   ]
  },
  {
   "cell_type": "code",
   "execution_count": 2,
   "id": "df5b1c65-e147-4e45-bdf7-5d12abb80112",
   "metadata": {
    "tags": []
   },
   "outputs": [
    {
     "name": "stdout",
     "output_type": "stream",
     "text": [
      "torch.Size([10, 1])\n",
      "torch.Size([10, 1])\n",
      "torch.Size([1, 1])\n",
      "torch.Size([1, 1])\n",
      "runs/pytoch_learning/20231024-174408\n"
     ]
    }
   ],
   "source": [
    "X = torch.tensor([[1.], [2.], [3.], [4.], [5.], [6.], [7.], [8.], [9.], [10.]])\n",
    "y = torch.tensor([[2.], [4.], [6.], [8.], [10.], [12.], [14.], [16.], [18.], [20.]])\n",
    "#X_test = torch.tensor([[2.5], [22.], [-6.], [.25],])\n",
    "#y_test = torch.tensor([[5.], [44.], [-12.], [.5],])\n",
    "X_test = torch.tensor([[40.]])\n",
    "y_test = torch.tensor([[80.]])\n",
    "print(X.size())\n",
    "print(y.size())\n",
    "print(X_test.size())\n",
    "print(y_test.size())\n",
    "\n",
    "tboard_dir = \"runs/pytoch_learning/\" + datetime.datetime.now().strftime(\"%Y%m%d-%H%M%S\");\n",
    "print(tboard_dir)\n",
    "writer = SummaryWriter(tboard_dir)"
   ]
  },
  {
   "cell_type": "code",
   "execution_count": 3,
   "id": "399d58ab-f276-4559-a9de-8ab300cb9e68",
   "metadata": {
    "tags": []
   },
   "outputs": [],
   "source": [
    "from torch.utils.data import Dataset\n",
    "\n",
    "class MyDataset(Dataset):\n",
    "    def __init__(self, X, y, transform=None, target_transform=None):\n",
    "        self.X = X\n",
    "        self.y = y\n",
    "        self.transform = transform\n",
    "        self.target_transform = target_transform\n",
    "\n",
    "    def __len__(self):\n",
    "        return len(self.X)\n",
    "\n",
    "    def __getitem__(self, idx):\n",
    "\n",
    "        return self.X[idx], self.y[idx]"
   ]
  },
  {
   "cell_type": "code",
   "execution_count": 4,
   "id": "c8d8a79c-fda0-4951-8423-e24f373d6745",
   "metadata": {
    "tags": []
   },
   "outputs": [],
   "source": [
    "full_dataset = MyDataset(X,y)\n",
    "train_dataset, test_dataset = torch.utils.data.random_split(full_dataset, [8, 2])"
   ]
  },
  {
   "cell_type": "code",
   "execution_count": 11,
   "id": "3e9e1b6f-e061-43f6-8f3c-f2a412169025",
   "metadata": {},
   "outputs": [],
   "source": [
    "from torch.utils.data import DataLoader\n",
    "\n",
    "train_dataloader = DataLoader(train_dataset, batch_size=2, shuffle=True)\n",
    "test_dataloader = DataLoader(test_dataset, batch_size=2, shuffle=True)"
   ]
  },
  {
   "cell_type": "code",
   "execution_count": 8,
   "id": "eef8c177-6c3a-4bd6-b979-0fc7e53ea3d2",
   "metadata": {
    "tags": []
   },
   "outputs": [
    {
     "name": "stdout",
     "output_type": "stream",
     "text": [
      "tensor([[4.],\n",
      "        [9.]])\n",
      "tensor([[ 8.],\n",
      "        [18.]])\n"
     ]
    }
   ],
   "source": [
    "train_features, train_labels = next(iter(train_dataloader))"
   ]
  },
  {
   "cell_type": "code",
   "execution_count": null,
   "id": "93513d9c-1cbc-4ab6-94da-786e751fb7c1",
   "metadata": {
    "tags": []
   },
   "outputs": [],
   "source": [
    "class NeuralNetwork(nn.Module):\n",
    "    def __init__(self):\n",
    "        super().__init__()\n",
    "        self.linear_stack = nn.Linear(1, 1)\n",
    "        \n",
    "    def forward(self, x):\n",
    "        logits = self.linear_stack(x)\n",
    "        return logits\n",
    "    \n",
    "model = NeuralNetwork()\n",
    "print(f\"Model structure : {model}\\n\\n\")\n",
    "\n",
    "for name, param in model.named_parameters():\n",
    "    print(f\"Layer: {name} | Size: {param.size()} | Values : {param[:2]} \\n\")"
   ]
  },
  {
   "cell_type": "code",
   "execution_count": null,
   "id": "d062afc9-26c1-4c25-bfd1-2a564a2147e6",
   "metadata": {
    "tags": []
   },
   "outputs": [],
   "source": [
    "#learning_rate = 1e-3\n",
    "learning_rate = 0.001\n",
    "batch_size = 64\n",
    "epochs = 5\n",
    "\n",
    "# Initialize the loss function\n",
    "loss_fn = nn.MSELoss()\n",
    "print(f\"Loss function : {loss_fn} \\n\")\n",
    "\n",
    "optimizer = torch.optim.SGD(model.parameters(), lr=learning_rate)\n",
    "print(f\"Optimizer : {optimizer}\")"
   ]
  },
  {
   "cell_type": "code",
   "execution_count": null,
   "id": "de722f31-55f9-4c66-9079-5a560fb0cfc4",
   "metadata": {
    "tags": []
   },
   "outputs": [],
   "source": [
    "def train_loop(dataloader, model, loss_fn, optimizer):\n",
    "    size = len(dataloader.dataset)\n",
    "    # Set the model to training mode - important for batch normalization and dropout layers\n",
    "    # Unnecessary in this situation but added for best practices\n",
    "    model.train()\n",
    "    for batch, (X, y) in enumerate(dataloader):\n",
    "        # Compute prediction and loss\n",
    "        pred = model(X)\n",
    "        loss = loss_fn(pred, y)\n",
    "\n",
    "        # Backpropagation\n",
    "        loss.backward()\n",
    "        optimizer.step()\n",
    "        optimizer.zero_grad()\n",
    "\n",
    "        if batch % 100 == 0:\n",
    "            loss, current = loss.item(), (batch + 1) * len(X)\n",
    "            print(f\"loss: {loss:>7f}  [{current:>5d}/{size:>5d}]\")\n",
    "\n",
    "\n",
    "\n",
    "def train_loop(X, y, model, loss_fn, optimizer):\n",
    "\n",
    "    #print(\"****** Training Start *******\\n\")\n",
    "    \n",
    "    # Set the model to training mode - important for batch normalization and dropout layers\n",
    "    # Unnecessary in this situation but added for best practices\n",
    "    model.train()\n",
    "\n",
    "    pred = model(X)\n",
    "    #print(f\"Prediction = {pred} \\n\")\n",
    "    \n",
    "    loss = loss_fn(pred, y)\n",
    "    #print(f\"Training Loss = {loss}\")\n",
    "\n",
    "    # Backpropagation\n",
    "    \n",
    "    # parameters before bp\n",
    "    #print(\"**** parms before bp ****\")\n",
    "    #for name, param in model.named_parameters():\n",
    "    #    print(f\"Layer: {name} | Size: {param.size()} | Values : {param[:2]}\")\n",
    "    #print(\"\\n\")\n",
    "    \n",
    "    loss.backward()\n",
    "    \n",
    "    # parameters after bp, before optimizer\n",
    "    #print(\"**** parms after bp, before optimizer ****\")\n",
    "    #for name, param in model.named_parameters():\n",
    "    #    print(f\"Layer: {name} | Size: {param.size()} | Values : {param[:2]}\")\n",
    "    #print(\"\\n\")\n",
    "    \n",
    "    # Optimization\n",
    "    \n",
    "    optimizer.step()\n",
    "    \n",
    "    # parameters after optimization\n",
    "    #print(\"**** parms after optimizer ****\")\n",
    "    #for name, param in model.named_parameters():\n",
    "    #    print(f\"Layer: {name} | Size: {param.size()} | Values : {param[:2]}\")\n",
    "    #print(\"\\n\")\n",
    "    \n",
    "    optimizer.zero_grad()\n",
    "    \n",
    "    #print(\"****** Training End *******\\n\")\n",
    "    \n",
    "    return loss"
   ]
  },
  {
   "cell_type": "code",
   "execution_count": null,
   "id": "e96d586f-a571-4864-8af4-7df854030dad",
   "metadata": {
    "tags": []
   },
   "outputs": [],
   "source": [
    "def test_loop(X_test, y_test, model, loss_fn):\n",
    "    \n",
    "    #print(\"****** Testing Start ******\\n\")\n",
    "    \n",
    "    # Set the model to evaluation mode - important for batch normalization and dropout layers\n",
    "    # Unnecessary in this situation but added for best practices\n",
    "    model.eval()\n",
    "\n",
    "    # Evaluating the model with torch.no_grad() ensures that no gradients are computed during test mode\n",
    "    # also serves to reduce unnecessary gradient computations and memory usage for tensors with requires_grad=True\n",
    "    with torch.no_grad():\n",
    "        pred_test = model(X_test)\n",
    "        #print(f\"Test Prediction = {pred_test}\")\n",
    "        test_loss = loss_fn(pred_test, y_test)\n",
    "        #print(f\"Test Loss = {test_loss}\")\n",
    "    \n",
    "    #print(\"****** Testing End ******\\n\")\n",
    "    \n",
    "    return test_loss"
   ]
  },
  {
   "cell_type": "code",
   "execution_count": null,
   "id": "46d05546-e090-4d05-895b-0b8ea86d8cb0",
   "metadata": {
    "tags": []
   },
   "outputs": [],
   "source": [
    "parms = []\n",
    "weight = torch.empty((1,1))\n",
    "bias = torch.empty((1,1))\n",
    "\n",
    "for t in range (100):\n",
    "    \n",
    "    train_loss = train_loop(train_dataloader, loss_fn, optimizer)\n",
    "    \n",
    "    for name, param in model.named_parameters():\n",
    "    #    print(f\"Layer: {name} | Size: {param.size()} | Values : {param[:2]}\")\n",
    "        parms.append(param[:2])\n",
    "    \n",
    "    test_loss = test_loop(test_dataloader, model, loss_fn)\n",
    "\n",
    "    weight = parms[0]\n",
    "    bias = parms[1]\n",
    "    \n",
    "    print(f\"Epoch {t+1}, Weight = {weight.detach().numpy()[0][0]}, Bias = {bias.detach().numpy()[0]}, Training Loss = {train_loss}, Testing Loss = {test_loss}\")\n",
    "    \n",
    "    writer.add_scalars('Training vs. Test Loss',\n",
    "                            {'Training' : train_loss, 'Test' : test_loss,}, t)\n",
    "    \n",
    "    writer.add_scalar('Training Loss', train_loss, t)\n",
    "    \n",
    "    writer.flush()\n",
    "\n",
    "print(\"\\n***** End of processing *****\")"
   ]
  }
 ],
 "metadata": {
  "kernelspec": {
   "display_name": "Python 3 (ipykernel)",
   "language": "python",
   "name": "python3"
  },
  "language_info": {
   "codemirror_mode": {
    "name": "ipython",
    "version": 3
   },
   "file_extension": ".py",
   "mimetype": "text/x-python",
   "name": "python",
   "nbconvert_exporter": "python",
   "pygments_lexer": "ipython3",
   "version": "3.11.4"
  }
 },
 "nbformat": 4,
 "nbformat_minor": 5
}
