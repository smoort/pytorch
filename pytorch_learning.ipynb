{
 "cells": [
  {
   "cell_type": "code",
   "execution_count": null,
   "id": "43e49a23-81e9-4dea-8d56-3f5ef77b0244",
   "metadata": {
    "tags": []
   },
   "outputs": [],
   "source": [
    "import torch\n",
    "from torch import nn\n",
    "input_data = torch.tensor([[1.], [2.], [3.], [4.], [5.], [6.], [7.], [8.], [9.], [10.]])\n",
    "output_data = torch.tensor([[2.], [4.], [6.], [8.], [10.], [12.], [14.], [16.], [18.], [20.]])\n",
    "print(input_data.size())\n",
    "print(output_data.size())"
   ]
  },
  {
   "cell_type": "code",
   "execution_count": null,
   "id": "93513d9c-1cbc-4ab6-94da-786e751fb7c1",
   "metadata": {
    "tags": []
   },
   "outputs": [],
   "source": [
    "class NeuralNetwork(nn.Module):\n",
    "    def __init__(self):\n",
    "        super().__init__()\n",
    "        self.linear_stack = nn.Linear(1, 1)\n",
    "        \n",
    "    def forward(self, x):\n",
    "        logits = self.linear_stack(x)\n",
    "        return logits\n",
    "    \n",
    "model = NeuralNetwork()\n",
    "print(f\"Model structure: {model}\\n\\n\")\n",
    "\n",
    "# Initialize the loss function\n",
    "loss_fn = nn.MSELoss()\n",
    "print(loss_fn)"
   ]
  },
  {
   "cell_type": "code",
   "execution_count": null,
   "id": "d062afc9-26c1-4c25-bfd1-2a564a2147e6",
   "metadata": {
    "tags": []
   },
   "outputs": [],
   "source": [
    "#learning_rate = 1e-3\n",
    "learning_rate = 0.001\n",
    "batch_size = 64\n",
    "epochs = 5\n",
    "\n",
    "optimizer = torch.optim.SGD(model.parameters(), lr=learning_rate)\n",
    "print(optimizer)"
   ]
  },
  {
   "cell_type": "code",
   "execution_count": null,
   "id": "165dfcf6-68fe-41fd-b6a7-afc354883626",
   "metadata": {
    "tags": []
   },
   "outputs": [],
   "source": [
    "for name, param in model.named_parameters():\n",
    "    print(f\"Layer: {name} | Size: {param.size()} | Values : {param[:2]} \\n\")"
   ]
  },
  {
   "cell_type": "code",
   "execution_count": null,
   "id": "46d05546-e090-4d05-895b-0b8ea86d8cb0",
   "metadata": {
    "tags": []
   },
   "outputs": [],
   "source": [
    "model.train()\n",
    "\n",
    "for x in range (1):\n",
    "    \n",
    "    print(\"************ Epoch \" + str(x+1) + \" ************ \\n\")\n",
    "    \n",
    "    logits = model(input_data)\n",
    "    logits.retain_grad()\n",
    "    print(f\"Logits = {logits} \\n\")\n",
    "    \n",
    "    loss = loss_fn(logits, output_data)\n",
    "    print(f\"Loss = {loss} \\n\")\n",
    "    \n",
    "    # parameters before bp\n",
    "    #print(\"**** parms before bp **** \\n\")\n",
    "    #for name, param in model.named_parameters():\n",
    "    #    print(f\"Layer: {name} | Size: {param.size()} | Values : {param[:2]} \\n\")\n",
    "    \n",
    "    # Backpropagation\n",
    "    loss.backward()\n",
    "    #print(f\"Loss after backward = {loss} \\n\")\n",
    "    \n",
    "    # parameters after bp, before optimizer\n",
    "    #print(\"**** parms after bp, before optimizer **** \\n\")\n",
    "    #for name, param in model.named_parameters():\n",
    "    #    print(f\"Layer: {name} | Size: {param.size()} | Values : {param[:2]} \\n\")\n",
    "    \n",
    "    optimizer.step()\n",
    "    optimizer.zero_grad()\n",
    "    #print(f\"Loss after optimization = {loss} \\n\")\n",
    "    \n",
    "    # parameters before bp\n",
    "    print(\"**** parms after optimizer **** \\n\")\n",
    "    for name, param in model.named_parameters():\n",
    "        print(f\"Layer: {name} | Size: {param.size()} | Values : {param[:2]}\")\n",
    "    print(\"\\n\")"
   ]
  },
  {
   "cell_type": "code",
   "execution_count": null,
   "id": "661452bf-467d-42ed-bf28-056efc05e839",
   "metadata": {
    "tags": []
   },
   "outputs": [],
   "source": [
    "# Testing\n",
    "\n",
    "model.eval()\n",
    "test_data = torch.tensor([[2.5], [40.], [-6.], [.25],])\n",
    "\n",
    "with torch.no_grad():\n",
    "    pred = model(test_data)\n",
    "    print(f\"Prediction = {pred}\")\n",
    "    test_loss = loss_fn(pred, test_data)\n",
    "    print(f\"test loss = \", test_loss)"
   ]
  },
  {
   "cell_type": "code",
   "execution_count": null,
   "id": "995a2e8f-37cd-46f5-90bf-2bbcf5c8ab48",
   "metadata": {
    "tags": []
   },
   "outputs": [],
   "source": [
    "print(logits)\n",
    "print(logits.grad)"
   ]
  },
  {
   "cell_type": "code",
   "execution_count": 19,
   "id": "57f7661e-fe8f-4030-9b3a-b83923ca476c",
   "metadata": {
    "tags": []
   },
   "outputs": [
    {
     "name": "stdout",
     "output_type": "stream",
     "text": [
      "Layer: linear_stack.weight | Requires Grad: True | Grad Value : True \n",
      "\n",
      "Layer: linear_stack.bias | Requires Grad: True | Grad Value : True \n",
      "\n"
     ]
    }
   ],
   "source": [
    "for name, param in model.named_parameters():\n",
    "    print(f\"Layer: {name} | Requires Grad: {param.requires_grad} | Grad Value : {param.is_leaf} \\n\")"
   ]
  },
  {
   "cell_type": "code",
   "execution_count": 20,
   "id": "ce95b10f-2bdb-45cf-a565-bd86e47c701c",
   "metadata": {
    "tags": []
   },
   "outputs": [],
   "source": [
    "# PyTorch TensorBoard support\n",
    "from torch.utils.tensorboard import SummaryWriter"
   ]
  },
  {
   "cell_type": "code",
   "execution_count": 21,
   "id": "441b45f9-f095-4347-82fb-24caa909de45",
   "metadata": {
    "tags": []
   },
   "outputs": [],
   "source": [
    "writer = SummaryWriter('runs/smoort learn 1')\n",
    "\n",
    "writer.add_scalars('Training vs. Validation Loss',\n",
    "                            { 'Training' : 1, 'Validation' : 2 })\n",
    "\n",
    "writer.flush()"
   ]
  },
  {
   "cell_type": "code",
   "execution_count": null,
   "id": "98ec57d5-708f-4d98-ad51-144b1cbf81a0",
   "metadata": {},
   "outputs": [],
   "source": []
  }
 ],
 "metadata": {
  "kernelspec": {
   "display_name": "Python 3 (ipykernel)",
   "language": "python",
   "name": "python3"
  },
  "language_info": {
   "codemirror_mode": {
    "name": "ipython",
    "version": 3
   },
   "file_extension": ".py",
   "mimetype": "text/x-python",
   "name": "python",
   "nbconvert_exporter": "python",
   "pygments_lexer": "ipython3",
   "version": "3.11.4"
  }
 },
 "nbformat": 4,
 "nbformat_minor": 5
}
